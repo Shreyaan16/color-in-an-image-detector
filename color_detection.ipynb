{
 "cells": [
  {
   "cell_type": "code",
   "execution_count": null,
   "id": "d9efdbbc-2876-4720-a274-c3160256a4a9",
   "metadata": {},
   "outputs": [],
   "source": [
    "import matplotlib.pyplot as plt\n",
    "import numpy as np\n",
    "import matplotlib.image as mpimg\n",
    "from sklearn.cluster import KMeans\n",
    "\n",
    "img_array = mpimg.imread(\"Add path here\")\n",
    "\n",
    "h, w, c = img_array.shape\n",
    "\n",
    "img_2d = img_array.reshape(h * w, c)\n",
    "\n",
    "model = KMeans(n_clusters=4)\n",
    "labels = model.fit_predict(img_2d)\n",
    "\n",
    "rgb_codes = model.cluster_centers_.round(0).astype(\"int\")\n",
    "\n",
    "plt.figure(figsize=(10, 5))\n",
    "plt.imshow(img_array)\n",
    "plt.title(\"Original Image\")\n",
    "plt.axis('off')\n",
    "plt.show()\n",
    "\n",
    "palette_size = (50, 300, 3)\n",
    "\n",
    "palette_image = np.zeros(palette_size, dtype=np.uint8)\n",
    "\n",
    "for i, color in enumerate(rgb_codes):\n",
    "    palette_image[:, i * 300 // len(rgb_codes):(i + 1) * 300 // len(rgb_codes), :] = color\n",
    "\n",
    "plt.figure(figsize=(10, 2))\n",
    "plt.imshow(palette_image)\n",
    "plt.title(\"Color Palette\")\n",
    "plt.axis('off')\n",
    "plt.show()\n",
    "\n",
    "recreated_img = np.zeros((h, w, c), dtype=np.uint8)\n",
    "\n",
    "for i in range(h):\n",
    "    for j in range(w):\n",
    "        recreated_img[i, j, :] = rgb_codes[labels[i * w + j]]\n",
    "\n",
    "plt.figure(figsize=(10, 5))\n",
    "plt.imshow(recreated_img)\n",
    "plt.title(\"Recreated Image using Clustered Labels\")\n",
    "plt.axis('off')\n",
    "plt.show()"
   ]
  },
  {
   "cell_type": "code",
   "execution_count": null,
   "id": "095c9067-bd29-42cf-bf08-176125e23761",
   "metadata": {},
   "outputs": [],
   "source": []
  }
 ],
 "metadata": {
  "kernelspec": {
   "display_name": "Python 3 (ipykernel)",
   "language": "python",
   "name": "python3"
  },
  "language_info": {
   "codemirror_mode": {
    "name": "ipython",
    "version": 3
   },
   "file_extension": ".py",
   "mimetype": "text/x-python",
   "name": "python",
   "nbconvert_exporter": "python",
   "pygments_lexer": "ipython3",
   "version": "3.12.4"
  }
 },
 "nbformat": 4,
 "nbformat_minor": 5
}
